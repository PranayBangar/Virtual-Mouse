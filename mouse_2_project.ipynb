{
 "cells": [
  {
   "cell_type": "code",
   "execution_count": null,
   "id": "95958051",
   "metadata": {},
   "outputs": [],
   "source": [
    "#!pip install pynput"
   ]
  },
  {
   "cell_type": "code",
   "execution_count": 1,
   "id": "c1a8aa32",
   "metadata": {},
   "outputs": [],
   "source": [
    "import cv2\n",
    "import mediapipe as mp\n",
    "import pyautogui\n",
    "from pynput.mouse import Button, Controller\n",
    "import random"
   ]
  },
  {
   "cell_type": "code",
   "execution_count": 2,
   "id": "894c05e4",
   "metadata": {},
   "outputs": [],
   "source": [
    "mouse = Controller()\n",
    "screen_width, screen_height = pyautogui.size()\n",
    "\n",
    "mpHands = mp.solutions.hands\n",
    "hands = mpHands.Hands(\n",
    "        static_image_mode=False,\n",
    "        model_complexity=1,\n",
    "        min_detection_confidence=0.7,  \n",
    "        min_tracking_confidence=0.7,\n",
    "        max_num_hands = 1\n",
    ")"
   ]
  },
  {
   "cell_type": "code",
   "execution_count": 3,
   "id": "422016c3",
   "metadata": {},
   "outputs": [],
   "source": [
    "import numpy as np\n",
    "\n",
    "\n",
    "def get_angle(a,b,c):\n",
    "    radians = np.arctan2(c[1] - b[1], c[0] - b[0]) - np.arctan2(a[1] - b[1], a[0] - b[0])\n",
    "    angle = np.abs(np.degrees(radians))\n",
    "    return angle\n",
    "\n",
    "def get_distance(landmark_list):\n",
    "    if len(landmark_list) < 2:\n",
    "        return\n",
    "    (x1,y1), (x2,y2) = landmark_list[0], landmark_list[1]\n",
    "    L = np.hypot(x2 - x1, y2 - y1)\n",
    "    return np.interp(L, [0, 1], [0, 1000])"
   ]
  },
  {
   "cell_type": "code",
   "execution_count": 4,
   "id": "e1732e59",
   "metadata": {},
   "outputs": [],
   "source": [
    "def find_finger_tip(processed):\n",
    "    \n",
    "    if processed.multi_hand_landmarks:\n",
    "        hand_landmarks = processed.multi_hand_landmarks[0]\n",
    "        return hand_landmarks.landmark[mpHands.HandLandmark.INDEX_FINGER_TIP]\n",
    "    \n",
    "    return None "
   ]
  },
  {
   "cell_type": "code",
   "execution_count": 5,
   "id": "a8d462e9",
   "metadata": {},
   "outputs": [],
   "source": [
    "def move_mouse(index_finger_tip):\n",
    "    if index_finger_tip is not None:\n",
    "        x = int(index_finger_tip.x * screen_width)\n",
    "        y = int(index_finger_tip.y * screen_height)\n",
    "        pyautogui.moveTo(x,y)"
   ]
  },
  {
   "cell_type": "code",
   "execution_count": 6,
   "id": "f9ca641f",
   "metadata": {},
   "outputs": [],
   "source": [
    "def is_left_click(landmarks_list, thumb_index_dist):\n",
    "    return (get_angle(landmarks_list[5], landmarks_list[6], landmarks_list[8]) < 50 and \n",
    "            get_angle(landmarks_list[9], landmarks_list[10], landmarks_list[12]) > 90 and\n",
    "            thumb_index_dist > 50)\n",
    "\n",
    "def is_right_click(landmarks_list, thumb_index_dist):\n",
    "    return (get_angle(landmarks_list[9], landmarks_list[10], landmarks_list[12]) < 50 and \n",
    "            get_angle(landmarks_list[5], landmarks_list[6], landmarks_list[8]) > 90 and\n",
    "            thumb_index_dist > 50)\n",
    "\n",
    "def is_double_click(landmarks_list, thumb_index_dist):\n",
    "    return (get_angle(landmarks_list[5], landmarks_list[6], landmarks_list[8])<50 and \n",
    "            get_angle(landmarks_list[9], landmarks_list[10], landmarks_list[12])<50 and\n",
    "            thumb_index_dist > 50)\n",
    "\n",
    "def is_screenshot(landmarks_list, thumb_index_dist):\n",
    "    return (get_angle(landmarks_list[5], landmarks_list[6], landmarks_list[8])<50 and \n",
    "            get_angle(landmarks_list[9], landmarks_list[10], landmarks_list[12])<50 and\n",
    "            thumb_index_dist < 50)"
   ]
  },
  {
   "cell_type": "code",
   "execution_count": 7,
   "id": "b7b7c624",
   "metadata": {},
   "outputs": [],
   "source": [
    "def detect_gestures(frame, landmarks_list, processed):\n",
    "    if len(landmarks_list)>=21:\n",
    "        index_finger_tip = find_finger_tip(processed)\n",
    "        thumb_index_dist = get_distance([landmarks_list[4], landmarks_list[5]])\n",
    "        \n",
    "        if thumb_index_dist < 50 and get_angle(landmarks_list[5], landmarks_list[6], landmarks_list[8])>90:\n",
    "            move_mouse(index_finger_tip)\n",
    "            \n",
    "        #left Click\n",
    "        elif is_left_click(landmarks_list, thumb_index_dist):\n",
    "            mouse.press(Button.left)\n",
    "            mouse.release(Button.left)\n",
    "            cv2.putText(frame, \"Left Click\", (50, 50), cv2.FONT_HERSHEY_SIMPLEX,1,(0,255,0), 2)\n",
    "                        \n",
    "        #right click\n",
    "        elif is_right_click(landmarks_list, thumb_index_dist):\n",
    "            mouse.press(Button.right)\n",
    "            mouse.release(Button.right)\n",
    "            cv2.putText(frame, \"Right Click\", (50, 50), cv2.FONT_HERSHEY_SIMPLEX,1,(0,0,255), 2)\n",
    "            \n",
    "        #double click\n",
    "        elif is_double_click(landmarks_list, thumb_index_dist):\n",
    "            pyautogui.doubleClick()\n",
    "            cv2.putText(frame, \"Double Click\", (50, 50), cv2.FONT_HERSHEY_SIMPLEX,1,(255,255,0), 2)\n",
    "            \n",
    "        #screenshot\n",
    "        elif is_screenshot(landmarks_list, thumb_index_dist):\n",
    "            im1 = pyautogui.screenshot()\n",
    "            label = random.randint(1, 1000)\n",
    "            im1.save(f'my_screenshot_{label}.png')\n",
    "            cv2.putText(frame, \"Screenshot Taken\", (50, 50), cv2.FONT_HERSHEY_SIMPLEX,1,(255,255,0), 2)\n",
    "            "
   ]
  },
  {
   "cell_type": "code",
   "execution_count": 1,
   "id": "f8523757",
   "metadata": {},
   "outputs": [
    {
     "ename": "NameError",
     "evalue": "name 'cv2' is not defined",
     "output_type": "error",
     "traceback": [
      "\u001b[1;31m---------------------------------------------------------------------------\u001b[0m",
      "\u001b[1;31mNameError\u001b[0m                                 Traceback (most recent call last)",
      "Cell \u001b[1;32mIn[1], line 41\u001b[0m\n\u001b[0;32m     38\u001b[0m         cv2\u001b[38;5;241m.\u001b[39mdestroyAllWindows()\n\u001b[0;32m     40\u001b[0m \u001b[38;5;28;01mif\u001b[39;00m \u001b[38;5;18m__name__\u001b[39m \u001b[38;5;241m==\u001b[39m \u001b[38;5;124m'\u001b[39m\u001b[38;5;124m__main__\u001b[39m\u001b[38;5;124m'\u001b[39m:\n\u001b[1;32m---> 41\u001b[0m     main()\n",
      "Cell \u001b[1;32mIn[1], line 2\u001b[0m, in \u001b[0;36mmain\u001b[1;34m()\u001b[0m\n\u001b[0;32m      1\u001b[0m \u001b[38;5;28;01mdef\u001b[39;00m \u001b[38;5;21mmain\u001b[39m():\n\u001b[1;32m----> 2\u001b[0m     cap \u001b[38;5;241m=\u001b[39m cv2\u001b[38;5;241m.\u001b[39mVideoCapture(\u001b[38;5;241m0\u001b[39m)\n\u001b[0;32m      3\u001b[0m     \u001b[38;5;66;03m# to draw hands line and points\u001b[39;00m\n\u001b[0;32m      4\u001b[0m     draw \u001b[38;5;241m=\u001b[39m mp\u001b[38;5;241m.\u001b[39msolutions\u001b[38;5;241m.\u001b[39mdrawing_utils\n",
      "\u001b[1;31mNameError\u001b[0m: name 'cv2' is not defined"
     ]
    }
   ],
   "source": [
    "def main():\n",
    "    cap = cv2.VideoCapture(0)\n",
    "    # to draw hands line and points\n",
    "    draw = mp.solutions.drawing_utils\n",
    "    \n",
    "    try:\n",
    "        while cap.isOpened():\n",
    "            ret , frame = cap.read()\n",
    "            \n",
    "            if not ret:\n",
    "                break\n",
    "            frame = cv2.flip(frame, 1)\n",
    "            # mediapipe requires frame to be passed in rgb format for processing\n",
    "            # But OpenCV bydefault captures frame in bgr format so we need to change it to rgb format\n",
    "            frameRGB = cv2.cvtColor(frame, cv2.COLOR_BGR2RGB)\n",
    "            \n",
    "            processed = hands.process(frameRGB)\n",
    "            \n",
    "            landmarks_list = []\n",
    "            \n",
    "            if processed.multi_hand_landmarks:\n",
    "                hand_landmarks = processed.multi_hand_landmarks[0]\n",
    "                draw.draw_landmarks(frame, hand_landmarks, mpHands.HAND_CONNECTIONS)\n",
    "                \n",
    "                for lm in hand_landmarks.landmark:\n",
    "                    landmarks_list.append((lm.x, lm.y))\n",
    "            \n",
    "            detect_gestures(frame, landmarks_list, processed)\n",
    "                    \n",
    "                \n",
    "            \n",
    "            cv2.imshow('Frame', frame)\n",
    "            if cv2.waitKey(1) & 0xFF == ord('q'):\n",
    "                break\n",
    "    \n",
    "    finally:\n",
    "        cap.release()\n",
    "        cv2.destroyAllWindows()\n",
    "        \n",
    "if __name__ == '__main__':\n",
    "    main()\n",
    "        "
   ]
  },
  {
   "cell_type": "code",
   "execution_count": null,
   "id": "d61fb0bd",
   "metadata": {},
   "outputs": [],
   "source": []
  }
 ],
 "metadata": {
  "kernelspec": {
   "display_name": "Python 3 (ipykernel)",
   "language": "python",
   "name": "python3"
  },
  "language_info": {
   "codemirror_mode": {
    "name": "ipython",
    "version": 3
   },
   "file_extension": ".py",
   "mimetype": "text/x-python",
   "name": "python",
   "nbconvert_exporter": "python",
   "pygments_lexer": "ipython3",
   "version": "3.11.5"
  }
 },
 "nbformat": 4,
 "nbformat_minor": 5
}
